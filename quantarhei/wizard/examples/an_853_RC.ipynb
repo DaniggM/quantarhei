{
 "cells": [
  {
   "cell_type": "code",
   "execution_count": 1,
   "metadata": {},
   "outputs": [],
   "source": [
    "import quantarhei as qr\n",
    "import quantarhei.spectroscopy as spec"
   ]
  },
  {
   "cell_type": "code",
   "execution_count": 2,
   "metadata": {},
   "outputs": [
    {
     "data": {
      "text/plain": [
       "'0.0.46'"
      ]
     },
     "execution_count": 2,
     "metadata": {},
     "output_type": "execute_result"
    }
   ],
   "source": [
    "qr.Manager().version"
   ]
  },
  {
   "cell_type": "code",
   "execution_count": 3,
   "metadata": {},
   "outputs": [],
   "source": [
    "pways = qr.load_parcel(\"pways.qrp\")\n",
    "agg = qr.load_parcel(\"aggregate.qrp\")"
   ]
  },
  {
   "cell_type": "code",
   "execution_count": 4,
   "metadata": {},
   "outputs": [],
   "source": [
    "#for p in pways:\n",
    "#    print(p)"
   ]
  },
  {
   "cell_type": "code",
   "execution_count": 5,
   "metadata": {},
   "outputs": [],
   "source": [
    "ps = pways[\"100.0\"]"
   ]
  },
  {
   "cell_type": "code",
   "execution_count": 6,
   "metadata": {},
   "outputs": [
    {
     "name": "stdout",
     "output_type": "stream",
     "text": [
      "1292\n"
     ]
    }
   ],
   "source": [
    "print(len(ps))"
   ]
  },
  {
   "cell_type": "code",
   "execution_count": 34,
   "metadata": {},
   "outputs": [
    {
     "name": "stdout",
     "output_type": "stream",
     "text": [
      "118\n"
     ]
    }
   ],
   "source": [
    "olow = qr.convert(400,\"1/cm\",\"int\")\n",
    "oup = qr.convert(600,\"1/cm\",\"int\")\n",
    "sps = spec.select_omega2((olow,oup),ps)\n",
    "sps = spec.order_by_amplitude(sps)\n",
    "sps = spec.select_type(sps,\"REPH\")\n",
    "print(len(sps))"
   ]
  },
  {
   "cell_type": "code",
   "execution_count": 42,
   "metadata": {},
   "outputs": [
    {
     "name": "stdout",
     "output_type": "stream",
     "text": [
      "\n",
      "\n",
      "Liouville Pathway R1f* (type = R) \n",
      "Weighting prefactor: (0.21475863653870689-0.01891580022549327j) \n",
      "\n",
      "    |3         3|  \n",
      "--->|-----------|  \n",
      "    |           |  \n",
      "    |9         3|      10502.0\n",
      "--->|-----------|  \n",
      "    |           |  \n",
      "    |5         3|      505.0\n",
      "  >>|***********|<< \n",
      "    |           | \n",
      "    |5         3|      505.0\n",
      "--->|-----------|  \n",
      "    |           |  \n",
      "    |0         3|      -9998.0\n",
      "    |-----------|<---  \n",
      "    |           |  \n",
      "    |0         0|  \n",
      "\n"
     ]
    }
   ],
   "source": [
    "with qr.energy_units(\"1/cm\"):\n",
    "    print(sps[1])"
   ]
  },
  {
   "cell_type": "code",
   "execution_count": 36,
   "metadata": {},
   "outputs": [
    {
     "name": "stdout",
     "output_type": "stream",
     "text": [
      "+-------+------------+--------------+------------------+\n",
      "| index | squares    | coefficients | state signatures |\n",
      "+-------+------------+--------------+------------------+\n",
      "| 3     | 0.99646465 | 0.99823076   | ((1, 0), (0,))   |\n",
      "| 6     | 0.00352649 | -0.05938422  | ((0, 1), (0,))   |\n",
      "| 7     | 0.00000882 | -0.00296920  | ((0, 1), (1,))   |\n",
      "| 4     | 0.00000003 | -0.00017723  | ((1, 0), (1,))   |\n",
      "| 8     | 0.00000002 | -0.00013989  | ((0, 1), (2,))   |\n",
      "+-------+------------+--------------+------------------+\n",
      "+-------+------------+--------------+------------------+\n",
      "| index | squares    | coefficients | state signatures |\n",
      "+-------+------------+--------------+------------------+\n",
      "| 6     | 0.75202257 | -0.86719235  | ((0, 1), (0,))   |\n",
      "| 4     | 0.24446402 | 0.49443303   | ((1, 0), (1,))   |\n",
      "| 3     | 0.00266131 | -0.05158792  | ((1, 0), (0,))   |\n",
      "| 7     | 0.00084770 | -0.02911530  | ((0, 1), (1,))   |\n",
      "| 8     | 0.00000433 | -0.00208031  | ((0, 1), (2,))   |\n",
      "+-------+------------+--------------+------------------+\n",
      "+-------+------------+--------------+------------------+\n",
      "| index | squares    | coefficients | state signatures |\n",
      "+-------+------------+--------------+------------------+\n",
      "| 4     | 0.75206145 | 0.86721477   | ((1, 0), (1,))   |\n",
      "| 6     | 0.24445073 | 0.49441959   | ((0, 1), (0,))   |\n",
      "| 7     | 0.00260930 | -0.05108130  | ((0, 1), (1,))   |\n",
      "| 3     | 0.00086520 | 0.02941428   | ((1, 0), (0,))   |\n",
      "| 8     | 0.00001313 | -0.00362392  | ((0, 1), (2,))   |\n",
      "+-------+------------+--------------+------------------+\n"
     ]
    }
   ],
   "source": [
    "agg.report_on_expansion(3)\n",
    "agg.report_on_expansion(5)\n",
    "agg.report_on_expansion(4)"
   ]
  },
  {
   "cell_type": "code",
   "execution_count": 37,
   "metadata": {},
   "outputs": [],
   "source": [
    "time1 = qr.TimeAxis(0.0, 100, 10.0)\n",
    "time2 = qr.TimeAxis(0.0, 100, 10.0)\n",
    "time3 = qr.TimeAxis(0.0, 100, 10.0)\n",
    "calc = qr.MockTwoDSpectrumCalculator(time1, time2, time3)"
   ]
  },
  {
   "cell_type": "code",
   "execution_count": 47,
   "metadata": {},
   "outputs": [],
   "source": [
    "pathways_to_calculate = [sps[0]] # [sps[1], sps[0]]\n",
    "\n",
    "with qr.energy_units(\"1/cm\"):\n",
    "    calc.bootstrap(rwa=10250.0, pathways=pathways_to_calculate)"
   ]
  },
  {
   "cell_type": "code",
   "execution_count": 48,
   "metadata": {},
   "outputs": [],
   "source": [
    "twod = calc.calculate_one(10)"
   ]
  },
  {
   "cell_type": "code",
   "execution_count": 49,
   "metadata": {},
   "outputs": [
    {
     "data": {
      "image/png": "[encoded data removed]",
      "text/plain": [
       "<Figure size 432x288 with 2 Axes>"
      ]
     },
     "metadata": {
      "needs_background": "light"
     },
     "output_type": "display_data"
    }
   ],
   "source": [
    "twod.plot()"
   ]
  },
  {
   "cell_type": "code",
   "execution_count": 50,
   "metadata": {},
   "outputs": [
    {
     "name": "stdout",
     "output_type": "stream",
     "text": [
      "\n",
      "\n",
      "Liouville Pathway R2g (type = R) \n",
      "Weighting prefactor: (-0.22770132361871981+0.020055783637254559j) \n",
      "\n",
      "    |0         0|  \n",
      "--->|-----------|  \n",
      "    |           |  \n",
      "    |5         0|      2.0\n",
      "    |-----------|<---  \n",
      "    |           |  \n",
      "    |5         3|      0.0\n",
      "  >>|***********|<< \n",
      "    |           | \n",
      "    |5         3|      0.0\n",
      "--->|-----------|  \n",
      "    |           |  \n",
      "    |0         3|      -2.0\n",
      "    |-----------|<---  \n",
      "    |           |  \n",
      "    |0         0|  \n",
      "\n"
     ]
    }
   ],
   "source": [
    "print(sps[0])"
   ]
  },
  {
   "cell_type": "code",
   "execution_count": null,
   "metadata": {},
   "outputs": [],
   "source": []
  }
 ],
 "metadata": {
  "kernelspec": {
   "display_name": "Python 3",
   "language": "python",
   "name": "python3"
  },
  "language_info": {
   "codemirror_mode": {
    "name": "ipython",
    "version": 3
   },
   "file_extension": ".py",
   "mimetype": "text/x-python",
   "name": "python",
   "nbconvert_exporter": "python",
   "pygments_lexer": "ipython3",
   "version": "3.7.1"
  }
 },
 "nbformat": 4,
 "nbformat_minor": 2
}
